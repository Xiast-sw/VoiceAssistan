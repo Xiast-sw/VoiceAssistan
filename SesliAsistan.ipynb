{
 "cells": [
  {
   "cell_type": "code",
   "execution_count": 3,
   "id": "addb3ec5-e9b1-4819-871c-16d0a9b4f9ce",
   "metadata": {},
   "outputs": [],
   "source": [
    "# Gerekli kütüphaneleri yüklüyoruz\n",
    "import speech_recognition as sr  # Ses tanıma için\n",
    "import pyttsx3  # Konuşma motoru için\n",
    "import datetime  # Saat ve tarih bilgisi için\n",
    "import webbrowser  # İnternet tarayıcısını açmak için\n",
    "import os  # Dosya işlemleri için"
   ]
  },
  {
   "cell_type": "code",
   "execution_count": 4,
   "id": "d39b0abd-0e9e-4ab0-8eee-3cf94ed3b857",
   "metadata": {},
   "outputs": [],
   "source": [
    "# Sesli yanıt motoru başlatılıyor\n",
    "engine = pyttsx3.init()\n",
    "\n",
    "def speak(text):\n",
    "    \"\"\"Bu fonksiyon metni sese dönüştürüp konuşur.\"\"\"\n",
    "    engine.say(text)\n",
    "    engine.runAndWait()\n",
    "\n",
    "# Motor özelliklerini ayarlamak için hız ve ses tonunu değiştirebilirsin:\n",
    "engine.setProperty('rate', 150)  # Konuşma hızı\n",
    "engine.setProperty('volume', 1.0)  # Ses yüksekliği"
   ]
  },
  {
   "cell_type": "code",
   "execution_count": 5,
   "id": "ca2e7498-f44f-4938-a5da-a09fb9f3968b",
   "metadata": {},
   "outputs": [],
   "source": [
    "def listen_command():\n",
    "    \"\"\"Bu fonksiyon mikrofonu kullanarak sesli komutları dinler ve komutu döndürür.\"\"\"\n",
    "    recognizer = sr.Recognizer()\n",
    "    with sr.Microphone() as source:\n",
    "        recognizer.adjust_for_ambient_noise(source, duration=1)  # Ortam gürültüsünü azaltma\n",
    "        print(\"Dinliyorum...\")\n",
    "        speak(\"Sizi dinliyorum.\")\n",
    "        audio = recognizer.listen(source)\n",
    "        \n",
    "        try:\n",
    "            command = recognizer.recognize_google(audio, language='tr-TR')  # Türkçe dilinde tanıma\n",
    "            print(f\"Algılanan komut: {command}\")\n",
    "            return command.lower()\n",
    "        except sr.UnknownValueError:\n",
    "            speak(\"Sizi anlayamadım, lütfen tekrar edin.\")\n",
    "            return \"\"\n",
    "        except sr.RequestError:\n",
    "            speak(\"Servisle bağlantı kurulamadı.\")\n",
    "            return \"\"\n"
   ]
  },
  {
   "cell_type": "code",
   "execution_count": 6,
   "id": "51596246-3751-4312-811b-66f081899dd0",
   "metadata": {},
   "outputs": [],
   "source": [
    "def process_command(command):\n",
    "    \"\"\"Bu fonksiyon verilen komuta göre işlem yapar.\"\"\"\n",
    "    \n",
    "    # Merhaba komutu\n",
    "    if \"merhaba\" in command:\n",
    "        speak(\"Merhaba! Size nasıl yardımcı olabilirim?\")\n",
    "    \n",
    "    # Saat kaç komutu\n",
    "    elif \"saat kaç\" in command:\n",
    "        current_time = datetime.datetime.now().strftime('%H:%M')\n",
    "        speak(f\"Saat şu an {current_time}\")\n",
    "    \n",
    "    # Tarih nedir komutu\n",
    "    elif \"tarih nedir\" in command:\n",
    "        today = datetime.datetime.now().strftime('%Y-%m-%d')\n",
    "        speak(f\"Bugünün tarihi: {today}\")\n",
    "    \n",
    "    # İnterneti aç komutu\n",
    "    elif \"interneti aç\" in command:\n",
    "        speak(\"Hangi siteyi açmamı istersiniz?\")\n",
    "        website = listen_command()\n",
    "        if website:\n",
    "            url = f\"https://www.{website}.com\"\n",
    "            webbrowser.open(url)\n",
    "            speak(f\"{website} sitesini açıyorum.\")\n",
    "    \n",
    "    # Bilgisayarı kapat komutu\n",
    "    elif \"bilgisayarı kapat\" in command:\n",
    "        speak(\"Bilgisayarı kapatmamı istiyor musunuz? Evet veya hayır diyebilirsiniz.\")\n",
    "        confirmation = listen_command()\n",
    "        if \"evet\" in confirmation:\n",
    "            speak(\"Bilgisayarınızı kapatıyorum. Görüşmek üzere!\")\n",
    "            os.system(\"shutdown /s /t 1\")\n",
    "        else:\n",
    "            speak(\"Kapatma işlemi iptal edildi.\")\n",
    "    \n",
    "    # Tanınmayan komut\n",
    "    else:\n",
    "        speak(\"Bu komutu anlayamadım. Lütfen başka bir şey söyleyin.\")\n"
   ]
  },
  {
   "cell_type": "code",
   "execution_count": 7,
   "id": "d15dcee7-ced1-42a2-92b3-675b7d31508b",
   "metadata": {},
   "outputs": [
    {
     "name": "stdout",
     "output_type": "stream",
     "text": [
      "Dinliyorum...\n",
      "Algılanan komut: Merhaba\n",
      "Dinliyorum...\n",
      "Dinliyorum...\n",
      "Algılanan komut: saat kaç\n",
      "Dinliyorum...\n",
      "Algılanan komut: İnterneti aç\n",
      "Dinliyorum...\n",
      "Dinliyorum...\n",
      "Algılanan komut: aç\n",
      "Dinliyorum...\n",
      "Algılanan komut: YouTube\n",
      "Dinliyorum...\n",
      "Algılanan komut: çık\n"
     ]
    }
   ],
   "source": [
    "# Sonsuz döngü: Asistan sürekli komut dinleyecek ve işleyecek\n",
    "while True:\n",
    "    command = listen_command()  # Komut alınıyor\n",
    "    if command:\n",
    "        # Asistanı kapatma komutu\n",
    "        if \"çık\" in command or \"kapat\" in command:\n",
    "            speak(\"Asistan kapatılıyor. Görüşmek üzere!\")\n",
    "            break  # Döngüden çık\n",
    "\n",
    "        process_command(command)  # Komut işleniyor\n"
   ]
  },
  {
   "cell_type": "code",
   "execution_count": null,
   "id": "3fb37f42-8dd4-46f0-95d9-c457603f03ad",
   "metadata": {},
   "outputs": [],
   "source": []
  }
 ],
 "metadata": {
  "kernelspec": {
   "display_name": "Python 3 (ipykernel)",
   "language": "python",
   "name": "python3"
  },
  "language_info": {
   "codemirror_mode": {
    "name": "ipython",
    "version": 3
   },
   "file_extension": ".py",
   "mimetype": "text/x-python",
   "name": "python",
   "nbconvert_exporter": "python",
   "pygments_lexer": "ipython3",
   "version": "3.12.4"
  }
 },
 "nbformat": 4,
 "nbformat_minor": 5
}
