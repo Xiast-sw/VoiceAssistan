{
 "cells": [
  {
   "cell_type": "code",
   "execution_count": 2,
   "id": "addb3ec5-e9b1-4819-871c-16d0a9b4f9ce",
   "metadata": {},
   "outputs": [],
   "source": [
    "# Gerekli kütüphaneleri yüklüyoruz\n",
    "import speech_recognition as sr  # Ses tanıma için\n",
    "import pyttsx3  # Konuşma motoru için\n",
    "import datetime  # Saat ve tarih bilgisi için\n",
    "import webbrowser  # İnternet tarayıcısını açmak için\n",
    "import os  # Dosya işlemleri için"
   ]
  },
  {
   "cell_type": "code",
   "execution_count": 3,
   "id": "d39b0abd-0e9e-4ab0-8eee-3cf94ed3b857",
   "metadata": {},
   "outputs": [],
   "source": [
    "# Sesli yanıt motoru başlatılıyor\n",
    "engine = pyttsx3.init()\n",
    "\n",
    "def speak(text):\n",
    "    \"\"\"Bu fonksiyon metni sese dönüştürüp konuşur.\"\"\"\n",
    "    engine.say(text)\n",
    "    engine.runAndWait()\n",
    "\n",
    "# Motor özelliklerini ayarlamak için hız ve ses tonunu değiştirebilirsin:\n",
    "engine.setProperty('rate', 150)  # Konuşma hızı\n",
    "engine.setProperty('volume', 1.0)  # Ses yüksekliği"
   ]
  },
  {
   "cell_type": "code",
   "execution_count": 6,
   "id": "ca2e7498-f44f-4938-a5da-a09fb9f3968b",
   "metadata": {},
   "outputs": [],
   "source": [
    "def listen_command():\n",
    "    \"\"\"Bu fonksiyon mikrofonu kullanarak sesli komutları dinler ve komutu döndürür.\"\"\"\n",
    "    recognizer = sr.Recognizer()\n",
    "    with sr.Microphone() as source:\n",
    "        recognizer.adjust_for_ambient_noise(source, duration=1)  # Ortam gürültüsünü azaltma\n",
    "        print(\"Listening...\")\n",
    "        speak(\"I'm listening.\")\n",
    "        audio = recognizer.listen(source)\n",
    "        \n",
    "        try:\n",
    "            command = recognizer.recognize_google(audio, language='en-US')  # Türkçe dilinde tanıma\n",
    "            print(f\"Algılanan komut: {command}\")\n",
    "            return command.lower()\n",
    "        except sr.UnknownValueError:\n",
    "            speak(\"Sorry, I did not understand that.\")\n",
    "            return \"\"\n",
    "        except sr.RequestError:\n",
    "            speak(\"Sorry, there was an issue with the service.\")\n",
    "            return \"\"\n"
   ]
  },
  {
   "cell_type": "code",
   "execution_count": 8,
   "id": "51596246-3751-4312-811b-66f081899dd0",
   "metadata": {},
   "outputs": [],
   "source": [
    "def process_command(command):\n",
    "    \"\"\"Bu fonksiyon verilen komuta göre işlem yapar.\"\"\"\n",
    "    \n",
    "    # Merhaba komutu\n",
    "    if \"hello\" in command:\n",
    "        speak(\"Hello! How can I assist you?\")\n",
    "    \n",
    "    # Saat kaç komutu\n",
    "    elif \"what time is it\" in command:\n",
    "        current_time = datetime.datetime.now().strftime('%H:%M')\n",
    "        speak(f\"The time is now {current_time}.\")\n",
    "    \n",
    "    # Tarih nedir komutu\n",
    "    elif \"what is the date\" in command:\n",
    "        today = datetime.datetime.now().strftime('%Y-%m-%d')\n",
    "        speak(f\"Today's date is  {today}.\")\n",
    "    \n",
    "    # İnterneti aç komutu\n",
    "    elif \"open the internet\" in command:\n",
    "        speak(\"Which website would you like to open?\")\n",
    "        website = listen_command()\n",
    "        if website:\n",
    "            url = f\"https://www.{website}.com\"\n",
    "            webbrowser.open(url)\n",
    "            speak(f\"Opening {website} website\")\n",
    "    \n",
    "    # Bilgisayarı kapat komutu\n",
    "    elif \"shut down the computer\" in command:\n",
    "        speak(\"Do you want me to shut down the computer? You can say yes or no.\")\n",
    "        confirmation = listen_command()\n",
    "        if confirmation and \"yes\" in confirmation:\n",
    "            speak(\"Shutting down your computer. Goodbye!\")\n",
    "            os.system(\"shutdown /s /t 1\")\n",
    "        else:\n",
    "            speak(\"Shutdown operation cancelled.\")\n",
    "    \n",
    "    # Tanınmayan komut\n",
    "    else:\n",
    "        speak(\"I did not understand that command. Please try again.\")"
   ]
  },
  {
   "cell_type": "code",
   "execution_count": 10,
   "id": "4d0d90b1-f127-434b-9473-5b47aa35bb92",
   "metadata": {},
   "outputs": [
    {
     "name": "stdout",
     "output_type": "stream",
     "text": [
      "Listening...\n",
      "Algılanan komut: open internet\n",
      "işleniyor...\n",
      "Listening...\n",
      "Algılanan komut: internet\n",
      "işleniyor...\n",
      "Listening...\n",
      "Algılanan komut: open the internet\n",
      "Listening...\n",
      "Algılanan komut: YouTube\n",
      "işleniyor...\n",
      "Listening...\n",
      "Algılanan komut: exit\n"
     ]
    }
   ],
   "source": [
    "while True:\n",
    "    command = listen_command()  # Komut dinleniyor\n",
    "    if command:\n",
    "        # Asistanı kapatma komutu\n",
    "        if \"exit\" in command or \"close\" in command:\n",
    "            speak(\"Goodbye!\")  # Veda mesajı\n",
    "            break  # Döngüden çık\n",
    "\n",
    "        # Gelen komutu işleme\n",
    "        process_command(command)  # Komut işleniyor\n",
    "        print(\"işleniyor...\")  # Konsola durum yazdırılıyor\n"
   ]
  },
  {
   "cell_type": "code",
   "execution_count": null,
   "id": "3fb37f42-8dd4-46f0-95d9-c457603f03ad",
   "metadata": {},
   "outputs": [],
   "source": []
  },
  {
   "cell_type": "code",
   "execution_count": null,
   "id": "2a598849-dd9d-4b40-85ec-bcfc753660db",
   "metadata": {},
   "outputs": [],
   "source": []
  }
 ],
 "metadata": {
  "kernelspec": {
   "display_name": "Python 3 (ipykernel)",
   "language": "python",
   "name": "python3"
  },
  "language_info": {
   "codemirror_mode": {
    "name": "ipython",
    "version": 3
   },
   "file_extension": ".py",
   "mimetype": "text/x-python",
   "name": "python",
   "nbconvert_exporter": "python",
   "pygments_lexer": "ipython3",
   "version": "3.12.4"
  }
 },
 "nbformat": 4,
 "nbformat_minor": 5
}
