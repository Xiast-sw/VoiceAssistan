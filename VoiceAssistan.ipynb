{
 "cells": [
  {
   "cell_type": "code",
   "execution_count": 1,
   "id": "07415ba1-b97f-432a-b7f1-58e981589d8c",
   "metadata": {},
   "outputs": [],
   "source": [
    "import tkinter as tk  # Tkinter kütüphanesini içe aktar\n",
    "import threading  # Çoklu iş parçacığı desteği için\n",
    "import pyttsx3  # Metni sese dönüştürmek için\n",
    "import speech_recognition as sr  # Sesli komutları tanımak için\n",
    "import webbrowser  # Tarayıcıda web sitelerini açmak için\n",
    "import os  # Sistem komutları için\n",
    "import datetime  # Tarih ve saat için"
   ]
  },
  {
   "cell_type": "code",
   "execution_count": 2,
   "id": "abea3a5f-b09a-47ed-91c9-613c72241bcd",
   "metadata": {},
   "outputs": [],
   "source": [
    "# Sesli asistan motorunu başlat\n",
    "engine = pyttsx3.init()  # pyttsx3 motorunu başlat"
   ]
  },
  {
   "cell_type": "code",
   "execution_count": 4,
   "id": "0a994d33-5581-47ac-8848-f89b174c0912",
   "metadata": {},
   "outputs": [],
   "source": [
    "def speak(text):\n",
    "    \"\"\"Bu fonksiyon metni sese dönüştürüp konuşur.\"\"\"\n",
    "    if not engine._inLoop:  # Eğer ses motoru döngüde değilse\n",
    "        engine.say(text)  # Metni sese çevirir\n",
    "        engine.runAndWait()  # Sesin çalınmasını bekler"
   ]
  },
  {
   "cell_type": "code",
   "execution_count": 6,
   "id": "e2b0e40e-3bbe-4840-bb79-6eb20541c9f3",
   "metadata": {},
   "outputs": [],
   "source": [
    "def listen_command():\n",
    "    \"\"\"Kullanıcıdan sesli komut alır ve metne dönüştürür.\"\"\"\n",
    "    recognizer = sr.Recognizer()  # Tanıyıcıyı oluştur\n",
    "    with sr.Microphone() as source:  # Mikrofonu kullan\n",
    "        recognizer.adjust_for_ambient_noise(source)  # Gürültüyü azalt\n",
    "        print(\"Listening...\")  # Dinliyorum mesajı\n",
    "        audio = recognizer.listen(source)  # Ses kaydını başlat\n",
    "        try:\n",
    "            command = recognizer.recognize_google(audio, language='en-US')  # Ses kaydını metne dönüştür\n",
    "            print(f\"Command: {command}\")  # Komutu konsola yazdır\n",
    "            return command.lower()  # Komutu küçük harfe çevir ve döndür\n",
    "        except sr.UnknownValueError:  # Anlaşılmayan ses hatası\n",
    "            speak(\"Sorry, I didn't catch that. Please repeat.\")\n",
    "            return None"
   ]
  },
  {
   "cell_type": "code",
   "execution_count": 9,
   "id": "a76eab6d-916c-4de3-b64f-71386dee7b7a",
   "metadata": {},
   "outputs": [],
   "source": [
    "def process_command(command):\n",
    "    \"\"\"Bu fonksiyon verilen komuta göre işlem yapar.\"\"\"\n",
    "    \n",
    "    # Merhaba komutu\n",
    "    if \"hello\" in command:\n",
    "        speak(\"Hello! How can I assist you?\")\n",
    "\n",
    "    # Saat kaç komutu\n",
    "    elif \"what time is it\" in command:\n",
    "        current_time = datetime.datetime.now().strftime('%H:%M')\n",
    "        speak(f\"The current time is {current_time}\")\n",
    "\n",
    "    # Tarih nedir komutu\n",
    "    elif \"what is the date\" in command:\n",
    "        today = datetime.datetime.now().strftime('%Y-%m-%d')\n",
    "        speak(f\"Today's date is {today}\")\n",
    "\n",
    "    # İnterneti aç komutu\n",
    "    elif \"open internet\" in command:\n",
    "        speak(\"Which website would you like to open?\")\n",
    "        website = listen_command()  # Web sitesi dinleniyor\n",
    "        if website:\n",
    "            url = f\"https://www.{website}.com\"  # URL oluşturuluyor\n",
    "            webbrowser.open(url)  # Tarayıcıda açılıyor\n",
    "            speak(f\"Opening {website} website.\")\n",
    "\n",
    "    # Bilgisayarı kapat komutu\n",
    "    elif \"shutdown\" in command:\n",
    "        speak(\"Do you want me to shut down your computer? You can say yes or no.\")\n",
    "        confirmation = listen_command()\n",
    "        if \"yes\" in confirmation:\n",
    "            speak(\"Shutting down your computer. Goodbye!\")\n",
    "            os.system(\"shutdown /s /t 1\")  # Bilgisayarı kapat\n",
    "        else:\n",
    "            speak(\"Shutdown canceled.\")\n",
    "\n",
    "    # Tanınmayan komut\n",
    "    else:\n",
    "        speak(\"I didn't understand that command. Please say something else.\")\n"
   ]
  },
  {
   "cell_type": "code",
   "execution_count": 11,
   "id": "1e8c63e8-ec2f-4232-bb9d-335f13c1e4cd",
   "metadata": {},
   "outputs": [],
   "source": [
    "def run_assistant():\n",
    "    \"\"\"Asistanın ana döngüsünü çalıştırır.\"\"\"\n",
    "    while True:\n",
    "        command = listen_command()  # Komut alınıyor\n",
    "        if command:\n",
    "            if \"exit\" in command or \"close\" in command:  # Kapatma komutu\n",
    "                speak(\"Goodbye!\")\n",
    "                break\n",
    "            process_command(command)  # Komut işleniyor\n",
    "            print(\"Processing...\")  # Konsolda işlem durumu yazdırılıyor"
   ]
  },
  {
   "cell_type": "code",
   "execution_count": 13,
   "id": "5f345404-3d9d-4703-919f-839f98283ab7",
   "metadata": {},
   "outputs": [],
   "source": [
    "def start_assistant():\n",
    "    \"\"\"Asistanı ayrı bir iş parçacığında başlatır.\"\"\"\n",
    "    threading.Thread(target=run_assistant).start()  # Yeni bir iş parçacığında asistan başlatılıyor"
   ]
  },
  {
   "cell_type": "code",
   "execution_count": 15,
   "id": "05d9e6bd-c0b9-49ca-8a17-4cf1ba112d5a",
   "metadata": {},
   "outputs": [],
   "source": [
    "def stop_assistant():\n",
    "    \"\"\"Asistanı durdurur.\"\"\"\n",
    "    engine.stop()  # Ses motorunu durdur\n",
    "    speak(\"Assistant stopped.\")  # Durdurma mesajı veriliyor\n",
    "    root.quit()  # Tkinter uygulaması kapatılıyor"
   ]
  },
  {
   "cell_type": "code",
   "execution_count": 17,
   "id": "cc30848b-0c52-434a-8fb4-0775bf73e4e3",
   "metadata": {},
   "outputs": [],
   "source": [
    "# GUI Kurulumu\n",
    "root = tk.Tk()  # Tkinter ana pencere oluşturuluyor\n",
    "root.title(\"Voice Assistant\")  # Pencere başlığı belirleniyor\n",
    "root.geometry(\"500x350\")  # Pencere boyutu ayarlanıyor\n",
    "\n",
    "label = tk.Label(root, text=\"Voice Assistant\", font=(\"Helvetica\", 16))  # Başlık etiketi oluşturuluyor\n",
    "label.pack(pady=20)  # Etiket yerleştiriliyor"
   ]
  },
  {
   "cell_type": "code",
   "execution_count": 19,
   "id": "06f442d6-34c3-49f0-b8c6-8e77d006569e",
   "metadata": {},
   "outputs": [],
   "source": [
    "# Başlat Butonu\n",
    "start_button = tk.Button(root, text=\"Start\", command=start_assistant, font=(\"Helvetica\", 12), width=10, height=2)  # Başlat butonu\n",
    "start_button.pack(pady=10)  # Buton yerleştiriliyor"
   ]
  },
  {
   "cell_type": "code",
   "execution_count": 21,
   "id": "46c9c1ec-f4e8-4715-ae4d-f5be52e57ead",
   "metadata": {},
   "outputs": [],
   "source": [
    "# Kapat Butonu\n",
    "stop_button = tk.Button(root, text=\"Stop\", command=stop_assistant, font=(\"Helvetica\", 12), width=10, height=2)  # Kapat butonu\n",
    "stop_button.pack(pady=10)  # Buton yerleştiriliyor"
   ]
  },
  {
   "cell_type": "code",
   "execution_count": 23,
   "id": "8733cc82-ee7e-4f37-89f6-e0f3e6aaec98",
   "metadata": {},
   "outputs": [],
   "source": [
    "# Tkinter döngüsünü başlat\n",
    "root.mainloop()  # Kullanıcı arayüzü döngüsü başlatılıyor"
   ]
  },
  {
   "cell_type": "code",
   "execution_count": null,
   "id": "839d47cf-4ed8-475e-ba37-111fc3eb9777",
   "metadata": {},
   "outputs": [],
   "source": []
  }
 ],
 "metadata": {
  "kernelspec": {
   "display_name": "Python 3 (ipykernel)",
   "language": "python",
   "name": "python3"
  },
  "language_info": {
   "codemirror_mode": {
    "name": "ipython",
    "version": 3
   },
   "file_extension": ".py",
   "mimetype": "text/x-python",
   "name": "python",
   "nbconvert_exporter": "python",
   "pygments_lexer": "ipython3",
   "version": "3.12.4"
  }
 },
 "nbformat": 4,
 "nbformat_minor": 5
}
